{
 "cells": [
  {
   "cell_type": "code",
   "execution_count": 1,
   "id": "856d4755",
   "metadata": {},
   "outputs": [],
   "source": [
    "# Initial imports\n",
    "import os\n",
    "import requests\n",
    "import pandas as pd\n",
    "import numpy as np\n",
    "import json\n",
    "import yfinance as yf\n",
    "from pycoingecko import CoinGeckoAPI\n",
    "from datetime import datetime"
   ]
  },
  {
   "cell_type": "code",
   "execution_count": 2,
   "id": "bdb42c77",
   "metadata": {},
   "outputs": [],
   "source": [
    "#Defining Stock Function\n",
    "def stock_pull(ticker):\n",
    "    \n",
    "    ticker = yf.Ticker(ticker)\n",
    "    ticker_hist = ticker.history(period=\"max\")\n",
    "    ticker_hist = ticker_hist.drop(columns=[\"Open\", \"High\", \"Low\", \"Volume\", \"Dividends\", \"Stock Splits\"])\n",
    "    ticker_hist['Close'] = ticker_hist['Close'].round(2)\n",
    "    \n",
    "    return ticker_hist"
   ]
  },
  {
   "cell_type": "code",
   "execution_count": 3,
   "id": "f6fb75d6",
   "metadata": {},
   "outputs": [
    {
     "data": {
      "text/html": [
       "<div>\n",
       "<style scoped>\n",
       "    .dataframe tbody tr th:only-of-type {\n",
       "        vertical-align: middle;\n",
       "    }\n",
       "\n",
       "    .dataframe tbody tr th {\n",
       "        vertical-align: top;\n",
       "    }\n",
       "\n",
       "    .dataframe thead th {\n",
       "        text-align: right;\n",
       "    }\n",
       "</style>\n",
       "<table border=\"1\" class=\"dataframe\">\n",
       "  <thead>\n",
       "    <tr style=\"text-align: right;\">\n",
       "      <th></th>\n",
       "      <th>Close</th>\n",
       "    </tr>\n",
       "    <tr>\n",
       "      <th>Date</th>\n",
       "      <th></th>\n",
       "    </tr>\n",
       "  </thead>\n",
       "  <tbody>\n",
       "    <tr>\n",
       "      <th>1992-08-18</th>\n",
       "      <td>1.25</td>\n",
       "    </tr>\n",
       "    <tr>\n",
       "      <th>1992-08-19</th>\n",
       "      <td>1.25</td>\n",
       "    </tr>\n",
       "    <tr>\n",
       "      <th>1992-08-20</th>\n",
       "      <td>1.25</td>\n",
       "    </tr>\n",
       "    <tr>\n",
       "      <th>1992-08-21</th>\n",
       "      <td>1.25</td>\n",
       "    </tr>\n",
       "    <tr>\n",
       "      <th>1992-08-24</th>\n",
       "      <td>1.26</td>\n",
       "    </tr>\n",
       "  </tbody>\n",
       "</table>\n",
       "</div>"
      ],
      "text/plain": [
       "            Close\n",
       "Date             \n",
       "1992-08-18   1.25\n",
       "1992-08-19   1.25\n",
       "1992-08-20   1.25\n",
       "1992-08-21   1.25\n",
       "1992-08-24   1.26"
      ]
     },
     "execution_count": 3,
     "metadata": {},
     "output_type": "execute_result"
    }
   ],
   "source": [
    "ltc_hist = stock_pull(\"ltc\")\n",
    "ltc_hist.head()"
   ]
  },
  {
   "cell_type": "code",
   "execution_count": 4,
   "id": "0089254a",
   "metadata": {},
   "outputs": [
    {
     "data": {
      "text/html": [
       "<div>\n",
       "<style scoped>\n",
       "    .dataframe tbody tr th:only-of-type {\n",
       "        vertical-align: middle;\n",
       "    }\n",
       "\n",
       "    .dataframe tbody tr th {\n",
       "        vertical-align: top;\n",
       "    }\n",
       "\n",
       "    .dataframe thead th {\n",
       "        text-align: right;\n",
       "    }\n",
       "</style>\n",
       "<table border=\"1\" class=\"dataframe\">\n",
       "  <thead>\n",
       "    <tr style=\"text-align: right;\">\n",
       "      <th></th>\n",
       "      <th>Close</th>\n",
       "    </tr>\n",
       "    <tr>\n",
       "      <th>Date</th>\n",
       "      <th></th>\n",
       "    </tr>\n",
       "  </thead>\n",
       "  <tbody>\n",
       "    <tr>\n",
       "      <th>2013-04-28</th>\n",
       "      <td>135.30</td>\n",
       "    </tr>\n",
       "    <tr>\n",
       "      <th>2013-04-29</th>\n",
       "      <td>141.96</td>\n",
       "    </tr>\n",
       "    <tr>\n",
       "      <th>2013-04-30</th>\n",
       "      <td>135.30</td>\n",
       "    </tr>\n",
       "    <tr>\n",
       "      <th>2013-05-01</th>\n",
       "      <td>117.00</td>\n",
       "    </tr>\n",
       "    <tr>\n",
       "      <th>2013-05-02</th>\n",
       "      <td>103.43</td>\n",
       "    </tr>\n",
       "  </tbody>\n",
       "</table>\n",
       "</div>"
      ],
      "text/plain": [
       "             Close\n",
       "Date              \n",
       "2013-04-28  135.30\n",
       "2013-04-29  141.96\n",
       "2013-04-30  135.30\n",
       "2013-05-01  117.00\n",
       "2013-05-02  103.43"
      ]
     },
     "execution_count": 4,
     "metadata": {},
     "output_type": "execute_result"
    }
   ],
   "source": [
    "cg = CoinGeckoAPI()\n",
    "\n",
    "btc = cg.get_coin_market_chart_by_id(id=\"bitcoin\", vs_currency=\"usd\", days=\"max\")\n",
    "data = btc['prices']\n",
    "# print data\n",
    "\n",
    "df = pd.DataFrame(data, columns = ['Date', 'Close'])\n",
    "# df.head()\n",
    "\n",
    "df['Date'] = pd.to_datetime(df['Date'], unit='ms').apply(lambda x: x.date())\n",
    "\n",
    "df['Close'] = df['Close'].round(2)\n",
    "\n",
    "df.set_index(\"Date\", inplace=True)\n",
    "\n",
    "df.head()"
   ]
  },
  {
   "cell_type": "code",
   "execution_count": 5,
   "id": "461d64bb",
   "metadata": {},
   "outputs": [],
   "source": [
    "df.to_csv('./input_data/btc_hist.csv')"
   ]
  },
  {
   "cell_type": "code",
   "execution_count": 6,
   "id": "866e582d",
   "metadata": {},
   "outputs": [],
   "source": [
    "ltc_hist.to_csv('./input_data/ltc_hist.csv')"
   ]
  }
 ],
 "metadata": {
  "kernelspec": {
   "display_name": "Python 3",
   "language": "python",
   "name": "python3"
  },
  "language_info": {
   "codemirror_mode": {
    "name": "ipython",
    "version": 3
   },
   "file_extension": ".py",
   "mimetype": "text/x-python",
   "name": "python",
   "nbconvert_exporter": "python",
   "pygments_lexer": "ipython3",
   "version": "3.7.10"
  }
 },
 "nbformat": 4,
 "nbformat_minor": 5
}
